{
 "cells": [
  {
   "attachments": {},
   "cell_type": "markdown",
   "metadata": {},
   "source": [
    "## Extract SWIFT codes\n",
    "\n",
    "* Randomly pick <= X SWIFT codes for each country\n",
    "* Original dataset: [github.com/PeterNotenboom/SwiftCodes](https://github.com/PeterNotenboom/SwiftCodes)"
   ]
  },
  {
   "cell_type": "code",
   "execution_count": null,
   "metadata": {},
   "outputs": [],
   "source": []
  },
  {
   "cell_type": "code",
   "execution_count": 1,
   "metadata": {},
   "outputs": [],
   "source": [
    "import os\n",
    "import json\n",
    "import random\n",
    "\n",
    "from glob import glob\n",
    "from itertools import chain\n",
    "\n",
    "import pandas as pd\n",
    "import seaborn as sns\n",
    "sns.set()\n",
    "\n",
    "import matplotlib.pyplot as plt\n",
    "plt.rcParams['figure.figsize'] = (6, 3)\n",
    "plt.rcParams['figure.dpi'] = 100"
   ]
  },
  {
   "cell_type": "code",
   "execution_count": null,
   "metadata": {},
   "outputs": [],
   "source": []
  },
  {
   "attachments": {},
   "cell_type": "markdown",
   "metadata": {},
   "source": [
    "### Read data"
   ]
  },
  {
   "cell_type": "code",
   "execution_count": 2,
   "metadata": {},
   "outputs": [
    {
     "name": "stdout",
     "output_type": "stream",
     "text": [
      "number of files found: 232\n"
     ]
    }
   ],
   "source": [
    "json_dp = os.path.join('..', '..', 'SwiftCodes', 'AllCountries')\n",
    "print(f'number of files found: {len(os.listdir(json_dp))}')"
   ]
  },
  {
   "cell_type": "code",
   "execution_count": 3,
   "metadata": {},
   "outputs": [
    {
     "data": {
      "text/plain": [
       "{'.json'}"
      ]
     },
     "execution_count": 3,
     "metadata": {},
     "output_type": "execute_result"
    }
   ],
   "source": [
    "set([os.path.splitext(x)[1] for x in os.listdir(json_dp)])"
   ]
  },
  {
   "cell_type": "code",
   "execution_count": 4,
   "metadata": {},
   "outputs": [
    {
     "data": {
      "text/plain": [
       "232"
      ]
     },
     "execution_count": 4,
     "metadata": {},
     "output_type": "execute_result"
    }
   ],
   "source": [
    "fps = glob(os.path.join(json_dp, '*json'))\n",
    "len(fps)"
   ]
  },
  {
   "cell_type": "code",
   "execution_count": 5,
   "metadata": {},
   "outputs": [],
   "source": [
    "def parse_swift_codes(fp: str) -> list[str]:\n",
    "    with open(fp) as fin:\n",
    "        data = json.load(fin)\n",
    "    swift_codes = [x['swift_code'] for x in data['list']]\n",
    "    return swift_codes"
   ]
  },
  {
   "cell_type": "code",
   "execution_count": 6,
   "metadata": {},
   "outputs": [],
   "source": [
    "parsed = {os.path.splitext(os.path.basename(fp))[0]: parse_swift_codes(fp) for fp in fps}"
   ]
  },
  {
   "cell_type": "code",
   "execution_count": null,
   "metadata": {},
   "outputs": [],
   "source": []
  },
  {
   "attachments": {},
   "cell_type": "markdown",
   "metadata": {},
   "source": [
    "### EDA"
   ]
  },
  {
   "cell_type": "code",
   "execution_count": 7,
   "metadata": {},
   "outputs": [
    {
     "name": "stdout",
     "output_type": "stream",
     "text": [
      "total number of swift codes: 112887\n"
     ]
    }
   ],
   "source": [
    "n_codes_per_country = {k: len(v) for k, v in parsed.items()}\n",
    "n_codes_per_country = pd.Series(n_codes_per_country).sort_values(ascending=False)\n",
    "\n",
    "print(f'total number of swift codes: {n_codes_per_country.sum()}')"
   ]
  },
  {
   "cell_type": "code",
   "execution_count": 8,
   "metadata": {},
   "outputs": [
    {
     "data": {
      "text/plain": [
       "count      232.000000\n",
       "mean       486.581897\n",
       "std       2330.636730\n",
       "min          1.000000\n",
       "25%         14.000000\n",
       "50%         44.000000\n",
       "75%        161.500000\n",
       "max      26259.000000\n",
       "dtype: float64"
      ]
     },
     "execution_count": 8,
     "metadata": {},
     "output_type": "execute_result"
    }
   ],
   "source": [
    "n_codes_per_country.describe()"
   ]
  },
  {
   "cell_type": "code",
   "execution_count": 9,
   "metadata": {},
   "outputs": [
    {
     "data": {
      "text/html": [
       "<div>\n",
       "<style scoped>\n",
       "    .dataframe tbody tr th:only-of-type {\n",
       "        vertical-align: middle;\n",
       "    }\n",
       "\n",
       "    .dataframe tbody tr th {\n",
       "        vertical-align: top;\n",
       "    }\n",
       "\n",
       "    .dataframe thead th {\n",
       "        text-align: right;\n",
       "    }\n",
       "</style>\n",
       "<table border=\"1\" class=\"dataframe\">\n",
       "  <thead>\n",
       "    <tr style=\"text-align: right;\">\n",
       "      <th></th>\n",
       "      <th>IT</th>\n",
       "      <th>GB</th>\n",
       "      <th>DE</th>\n",
       "      <th>US</th>\n",
       "      <th>FR</th>\n",
       "      <th>IN</th>\n",
       "      <th>CN</th>\n",
       "      <th>CH</th>\n",
       "      <th>TW</th>\n",
       "      <th>NL</th>\n",
       "      <th>RU</th>\n",
       "      <th>TR</th>\n",
       "      <th>HK</th>\n",
       "      <th>EG</th>\n",
       "      <th>AT</th>\n",
       "    </tr>\n",
       "  </thead>\n",
       "  <tbody>\n",
       "    <tr>\n",
       "      <th>0</th>\n",
       "      <td>26259</td>\n",
       "      <td>20757</td>\n",
       "      <td>8518</td>\n",
       "      <td>5781</td>\n",
       "      <td>4924</td>\n",
       "      <td>4272</td>\n",
       "      <td>2652</td>\n",
       "      <td>1904</td>\n",
       "      <td>1889</td>\n",
       "      <td>1714</td>\n",
       "      <td>1646</td>\n",
       "      <td>1459</td>\n",
       "      <td>1362</td>\n",
       "      <td>1276</td>\n",
       "      <td>1191</td>\n",
       "    </tr>\n",
       "  </tbody>\n",
       "</table>\n",
       "</div>"
      ],
      "text/plain": [
       "      IT     GB    DE    US    FR    IN    CN    CH    TW    NL    RU    TR  \\\n",
       "0  26259  20757  8518  5781  4924  4272  2652  1904  1889  1714  1646  1459   \n",
       "\n",
       "     HK    EG    AT  \n",
       "0  1362  1276  1191  "
      ]
     },
     "execution_count": 9,
     "metadata": {},
     "output_type": "execute_result"
    }
   ],
   "source": [
    "n_codes_per_country.head(15).to_frame().T"
   ]
  },
  {
   "cell_type": "code",
   "execution_count": 10,
   "metadata": {},
   "outputs": [
    {
     "data": {
      "image/png": "[encoded data removed]",
      "text/plain": [
       "<Figure size 600x300 with 1 Axes>"
      ]
     },
     "metadata": {},
     "output_type": "display_data"
    }
   ],
   "source": [
    "n_codes_per_country.hist(bins=100, log=True);"
   ]
  },
  {
   "cell_type": "code",
   "execution_count": 11,
   "metadata": {},
   "outputs": [
    {
     "name": "stdout",
     "output_type": "stream",
     "text": [
      "number of codes in filtered dataset: 31112\n"
     ]
    },
    {
     "data": {
      "image/png": "[encoded data removed]",
      "text/plain": [
       "<Figure size 600x300 with 1 Axes>"
      ]
     },
     "metadata": {},
     "output_type": "display_data"
    }
   ],
   "source": [
    "filtered = n_codes_per_country[n_codes_per_country < n_codes_per_country.quantile(0.95)]\n",
    "print(f'number of codes in filtered dataset: {filtered.sum()}')\n",
    "filtered.plot.hist(bins=50, log=False);"
   ]
  },
  {
   "cell_type": "code",
   "execution_count": null,
   "metadata": {},
   "outputs": [],
   "source": []
  },
  {
   "attachments": {},
   "cell_type": "markdown",
   "metadata": {},
   "source": [
    "### Extract sample swift codes"
   ]
  },
  {
   "cell_type": "code",
   "execution_count": 12,
   "metadata": {},
   "outputs": [
    {
     "name": "stdout",
     "output_type": "stream",
     "text": [
      "number of randomly picked codes: 12088\n"
     ]
    }
   ],
   "source": [
    "max_picks = 100\n",
    "\n",
    "codes_random = [random.sample(arr, min(max_picks, len(arr))) for arr in parsed.values()]\n",
    "\n",
    "codes_concat = list(chain(*codes_random))\n",
    "codes_concat = list(set(codes_concat))\n",
    "\n",
    "print(f'number of randomly picked codes: {len(codes_concat)}')"
   ]
  },
  {
   "cell_type": "code",
   "execution_count": 13,
   "metadata": {},
   "outputs": [],
   "source": [
    "out_fp = os.path.join('..', 'src', 'lib', 'SwiftCodes.js')\n",
    "os.makedirs(os.path.dirname(out_fp), exist_ok=True)"
   ]
  },
  {
   "cell_type": "code",
   "execution_count": 14,
   "metadata": {},
   "outputs": [],
   "source": [
    "out_lines = [f'\\t\"{code}\",' for code in codes_concat]\n",
    "out_lines = ['export const swiftCodes = [', ] + out_lines + [\"]\"]\n",
    "out_lines = '\\n'.join(out_lines)"
   ]
  },
  {
   "cell_type": "code",
   "execution_count": 15,
   "metadata": {},
   "outputs": [],
   "source": [
    "with open(out_fp, 'w', encoding='utf-8') as fout:\n",
    "    fout.write(out_lines)"
   ]
  },
  {
   "cell_type": "code",
   "execution_count": null,
   "metadata": {},
   "outputs": [],
   "source": []
  },
  {
   "cell_type": "code",
   "execution_count": null,
   "metadata": {},
   "outputs": [],
   "source": []
  }
 ],
 "metadata": {
  "kernelspec": {
   "display_name": "base",
   "language": "python",
   "name": "python3"
  },
  "language_info": {
   "codemirror_mode": {
    "name": "ipython",
    "version": 3
   },
   "file_extension": ".py",
   "mimetype": "text/x-python",
   "name": "python",
   "nbconvert_exporter": "python",
   "pygments_lexer": "ipython3",
   "version": "3.9.12"
  },
  "orig_nbformat": 4,
  "vscode": {
   "interpreter": {
    "hash": "b5a2567531b7dbdea35435379f634b3a484c33a5ff3433b81ad0d9ac5b5840bb"
   }
  }
 },
 "nbformat": 4,
 "nbformat_minor": 2
}
